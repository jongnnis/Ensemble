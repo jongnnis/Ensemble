{
  "nbformat": 4,
  "nbformat_minor": 0,
  "metadata": {
    "colab": {
      "provenance": [],
      "authorship_tag": "ABX9TyMKj1vzqAj52Fusok+wtUGu",
      "include_colab_link": true
    },
    "kernelspec": {
      "name": "python3",
      "display_name": "Python 3"
    },
    "language_info": {
      "name": "python"
    }
  },
  "cells": [
    {
      "cell_type": "markdown",
      "metadata": {
        "id": "view-in-github",
        "colab_type": "text"
      },
      "source": [
        "<a href=\"https://colab.research.google.com/github/jongnnis/Ensemble/blob/main/%EC%95%99%EC%83%81%EB%B8%94(%EB%B6%80%EC%8A%A4%ED%8C%85%2C_%EC%8A%A4%ED%83%9C%ED%82%B9_%EC%98%88%EC%A0%9C).ipynb\" target=\"_parent\"><img src=\"https://colab.research.google.com/assets/colab-badge.svg\" alt=\"Open In Colab\"/></a>"
      ]
    },
    {
      "cell_type": "markdown",
      "source": [
        "# 과제. 앙상블 모델 중 \"부스팅\", \"스태킹\"에 대해 알아보고 자세히 설명할 수 있는 예제를 만들어보자"
      ],
      "metadata": {
        "id": "eKIkeXbefIAJ"
      }
    },
    {
      "cell_type": "code",
      "source": [],
      "metadata": {
        "id": "dApPTNErfT2D"
      },
      "execution_count": null,
      "outputs": []
    }
  ]
}